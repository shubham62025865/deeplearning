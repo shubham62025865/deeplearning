{
  "nbformat": 4,
  "nbformat_minor": 0,
  "metadata": {
    "colab": {
      "provenance": [],
      "authorship_tag": "ABX9TyPS6LCYv4sJyqPLlzpVRL+W",
      "include_colab_link": true
    },
    "kernelspec": {
      "name": "python3",
      "display_name": "Python 3"
    },
    "language_info": {
      "name": "python"
    }
  },
  "cells": [
    {
      "cell_type": "markdown",
      "metadata": {
        "id": "view-in-github",
        "colab_type": "text"
      },
      "source": [
        "<a href=\"https://colab.research.google.com/github/shubham62025865/deeplearning/blob/main/Untitled43.ipynb\" target=\"_parent\"><img src=\"https://colab.research.google.com/assets/colab-badge.svg\" alt=\"Open In Colab\"/></a>"
      ]
    },
    {
      "cell_type": "markdown",
      "source": [
        "basic of deep lerning"
      ],
      "metadata": {
        "id": "f2FXNJRIInjq"
      }
    },
    {
      "cell_type": "code",
      "execution_count": null,
      "metadata": {
        "id": "CsQBM4HKIlGq"
      },
      "outputs": [],
      "source": [
        "import tensorflow as tf\n",
        "print(tf.__version__) # check the version (should be 2.x+)"
      ]
    },
    {
      "cell_type": "code",
      "source": [
        "import numpy as np\n",
        "import matplotlib.pyplot as plt"
      ],
      "metadata": {
        "id": "aQuJB2aDIumL"
      },
      "execution_count": null,
      "outputs": []
    },
    {
      "cell_type": "code",
      "source": [
        "x = np.arange(-7, 15, 3)\n",
        "x"
      ],
      "metadata": {
        "colab": {
          "base_uri": "https://localhost:8080/"
        },
        "id": "CwlUhubvKmQ4",
        "outputId": "9a15ad23-02b0-488e-e0dd-4dc965b8a84c"
      },
      "execution_count": 9,
      "outputs": [
        {
          "output_type": "execute_result",
          "data": {
            "text/plain": [
              "array([-7, -4, -1,  2,  5,  8, 11, 14])"
            ]
          },
          "metadata": {},
          "execution_count": 9
        }
      ]
    },
    {
      "cell_type": "code",
      "source": [
        "y=np.arange(3,25,3)\n",
        "y"
      ],
      "metadata": {
        "colab": {
          "base_uri": "https://localhost:8080/"
        },
        "id": "AkZdRaK_KtJS",
        "outputId": "edbff529-aa10-496a-da0c-fa179b36a51b"
      },
      "execution_count": 10,
      "outputs": [
        {
          "output_type": "execute_result",
          "data": {
            "text/plain": [
              "array([ 3,  6,  9, 12, 15, 18, 21, 24])"
            ]
          },
          "metadata": {},
          "execution_count": 10
        }
      ]
    },
    {
      "cell_type": "code",
      "source": [
        "y = x + 10"
      ],
      "metadata": {
        "id": "jxVASjYiLNBu"
      },
      "execution_count": 11,
      "outputs": []
    },
    {
      "cell_type": "code",
      "source": [
        "plt.scatter(x = x, y = y)"
      ],
      "metadata": {
        "colab": {
          "base_uri": "https://localhost:8080/",
          "height": 453
        },
        "id": "Ac3tDPGYLVu_",
        "outputId": "02d227fa-46b8-4edd-d054-0c22425e31d9"
      },
      "execution_count": 12,
      "outputs": [
        {
          "output_type": "execute_result",
          "data": {
            "text/plain": [
              "<matplotlib.collections.PathCollection at 0x7ddff1728430>"
            ]
          },
          "metadata": {},
          "execution_count": 12
        },
        {
          "output_type": "display_data",
          "data": {
            "text/plain": [
              "<Figure size 640x480 with 1 Axes>"
            ],
            "image/png": "[encoded data removed]"
          },
          "metadata": {}
        }
      ]
    },
    {
      "cell_type": "code",
      "source": [
        "x = tf.constant(np.arange(-7,15,3))\n",
        "y = x + 10\n",
        "x, y"
      ],
      "metadata": {
        "colab": {
          "base_uri": "https://localhost:8080/"
        },
        "id": "eCVIglJkLslX",
        "outputId": "6dc49a8e-0027-412f-f584-bd972f6d9de0"
      },
      "execution_count": 13,
      "outputs": [
        {
          "output_type": "execute_result",
          "data": {
            "text/plain": [
              "(<tf.Tensor: shape=(8,), dtype=int64, numpy=array([-7, -4, -1,  2,  5,  8, 11, 14])>,\n",
              " <tf.Tensor: shape=(8,), dtype=int64, numpy=array([ 3,  6,  9, 12, 15, 18, 21, 24])>)"
            ]
          },
          "metadata": {},
          "execution_count": 13
        }
      ]
    },
    {
      "cell_type": "code",
      "source": [
        "# Visualize it\n",
        "plt.scatter(x, y)\n",
        "plt.xlabel(\"X\")\n",
        "plt.ylabel(\"y\")\n",
        "plt.show()"
      ],
      "metadata": {
        "colab": {
          "base_uri": "https://localhost:8080/",
          "height": 454
        },
        "id": "TfaqjWQ1NRJR",
        "outputId": "32b247ec-1bd8-4eb3-e210-7808a5f4cfc0"
      },
      "execution_count": 14,
      "outputs": [
        {
          "output_type": "display_data",
          "data": {
            "text/plain": [
              "<Figure size 640x480 with 1 Axes>"
            ],
            "image/png": "[encoded data removed]"
          },
          "metadata": {}
        }
      ]
    },
    {
      "cell_type": "code",
      "source": [
        "scalar = tf.constant(7)\n",
        "scalar"
      ],
      "metadata": {
        "colab": {
          "base_uri": "https://localhost:8080/"
        },
        "id": "so6Xk1soOPCA",
        "outputId": "514ab751-f014-4785-a30c-1d184d5d8ad3"
      },
      "execution_count": 15,
      "outputs": [
        {
          "output_type": "execute_result",
          "data": {
            "text/plain": [
              "<tf.Tensor: shape=(), dtype=int32, numpy=7>"
            ]
          },
          "metadata": {},
          "execution_count": 15
        }
      ]
    },
    {
      "cell_type": "code",
      "source": [
        "scalar.ndim"
      ],
      "metadata": {
        "colab": {
          "base_uri": "https://localhost:8080/"
        },
        "id": "eQpAp3LNOeYJ",
        "outputId": "1b9b3cc1-2051-438e-c509-d4b71bdbe380"
      },
      "execution_count": 16,
      "outputs": [
        {
          "output_type": "execute_result",
          "data": {
            "text/plain": [
              "0"
            ]
          },
          "metadata": {},
          "execution_count": 16
        }
      ]
    },
    {
      "cell_type": "code",
      "source": [
        "vector=tf.constant([10,10])\n",
        "vector"
      ],
      "metadata": {
        "colab": {
          "base_uri": "https://localhost:8080/"
        },
        "id": "rD1bXQbXOngW",
        "outputId": "38c59939-1006-490c-8337-2c10cdd7b19f"
      },
      "execution_count": 17,
      "outputs": [
        {
          "output_type": "execute_result",
          "data": {
            "text/plain": [
              "<tf.Tensor: shape=(2,), dtype=int32, numpy=array([10, 10], dtype=int32)>"
            ]
          },
          "metadata": {},
          "execution_count": 17
        }
      ]
    },
    {
      "cell_type": "code",
      "source": [
        "vector.ndim"
      ],
      "metadata": {
        "colab": {
          "base_uri": "https://localhost:8080/"
        },
        "id": "ke_tSw17OxNh",
        "outputId": "21bd916e-6cec-45c4-bbcc-7de3aec1db48"
      },
      "execution_count": 18,
      "outputs": [
        {
          "output_type": "execute_result",
          "data": {
            "text/plain": [
              "1"
            ]
          },
          "metadata": {},
          "execution_count": 18
        }
      ]
    },
    {
      "cell_type": "code",
      "source": [
        "matrix = tf.constant([[10, 7],\n",
        "                      [7, 10]])\n",
        "matrix"
      ],
      "metadata": {
        "id": "4WRO6_dCO889",
        "colab": {
          "base_uri": "https://localhost:8080/"
        },
        "outputId": "a8ca8f50-4ca0-43f8-da15-31afb1f8acd6"
      },
      "execution_count": 19,
      "outputs": [
        {
          "output_type": "execute_result",
          "data": {
            "text/plain": [
              "<tf.Tensor: shape=(2, 2), dtype=int32, numpy=\n",
              "array([[10,  7],\n",
              "       [ 7, 10]], dtype=int32)>"
            ]
          },
          "metadata": {},
          "execution_count": 19
        }
      ]
    },
    {
      "cell_type": "code",
      "source": [
        "matrix= tf.constant([\n",
        "    [10,7],\n",
        "    [7,10]\n",
        "])"
      ],
      "metadata": {
        "id": "iefgIu1nPIXa"
      },
      "execution_count": 20,
      "outputs": []
    },
    {
      "cell_type": "code",
      "source": [
        "matrix\n"
      ],
      "metadata": {
        "colab": {
          "base_uri": "https://localhost:8080/"
        },
        "id": "4eRshQEbPdoW",
        "outputId": "d1cd316e-bdec-4b73-bd4d-f916f8414d38"
      },
      "execution_count": 21,
      "outputs": [
        {
          "output_type": "execute_result",
          "data": {
            "text/plain": [
              "<tf.Tensor: shape=(2, 2), dtype=int32, numpy=\n",
              "array([[10,  7],\n",
              "       [ 7, 10]], dtype=int32)>"
            ]
          },
          "metadata": {},
          "execution_count": 21
        }
      ]
    },
    {
      "cell_type": "code",
      "source": [
        "matrix.ndim"
      ],
      "metadata": {
        "colab": {
          "base_uri": "https://localhost:8080/"
        },
        "id": "JZYbtgcfPk9l",
        "outputId": "b5bd2dc4-b8b6-435f-9473-c0f7a162111c"
      },
      "execution_count": 22,
      "outputs": [
        {
          "output_type": "execute_result",
          "data": {
            "text/plain": [
              "2"
            ]
          },
          "metadata": {},
          "execution_count": 22
        }
      ]
    },
    {
      "cell_type": "code",
      "source": [
        "# Create another matrix and define the datatype\n",
        "another_matrix = tf.constant([[10., 7.],\n",
        "                              [3., 2.],\n",
        "                              [8., 9.]], dtype=tf.float16)"
      ],
      "metadata": {
        "id": "QKvDrHRRPsRu"
      },
      "execution_count": 23,
      "outputs": []
    },
    {
      "cell_type": "code",
      "source": [
        "another_matrix"
      ],
      "metadata": {
        "colab": {
          "base_uri": "https://localhost:8080/"
        },
        "id": "CMj0Wq_iPujU",
        "outputId": "39ab787b-252c-469d-ea8f-cac493206434"
      },
      "execution_count": 24,
      "outputs": [
        {
          "output_type": "execute_result",
          "data": {
            "text/plain": [
              "<tf.Tensor: shape=(3, 2), dtype=float16, numpy=\n",
              "array([[10.,  7.],\n",
              "       [ 3.,  2.],\n",
              "       [ 8.,  9.]], dtype=float16)>"
            ]
          },
          "metadata": {},
          "execution_count": 24
        }
      ]
    },
    {
      "cell_type": "code",
      "source": [
        "another_matrix.ndim"
      ],
      "metadata": {
        "colab": {
          "base_uri": "https://localhost:8080/"
        },
        "id": "z9pCnKsjPy5k",
        "outputId": "301a613d-2005-460b-aef1-3f59d69a0bf0"
      },
      "execution_count": 25,
      "outputs": [
        {
          "output_type": "execute_result",
          "data": {
            "text/plain": [
              "2"
            ]
          },
          "metadata": {},
          "execution_count": 25
        }
      ]
    },
    {
      "cell_type": "code",
      "source": [
        "tensor = tf.constant([[[1, 2, 3],\n",
        "                       [4, 5, 6]],\n",
        "                      [[7, 8, 9],\n",
        "                       [10, 11, 12]],\n",
        "                      [[13, 14, 15],\n",
        "                       [16, 17, 18]]])\n",
        "tensor"
      ],
      "metadata": {
        "colab": {
          "base_uri": "https://localhost:8080/"
        },
        "id": "3mYhYC57P8ZE",
        "outputId": "a106bf1f-4645-468d-ac9f-2fbef1835da1"
      },
      "execution_count": 26,
      "outputs": [
        {
          "output_type": "execute_result",
          "data": {
            "text/plain": [
              "<tf.Tensor: shape=(3, 2, 3), dtype=int32, numpy=\n",
              "array([[[ 1,  2,  3],\n",
              "        [ 4,  5,  6]],\n",
              "\n",
              "       [[ 7,  8,  9],\n",
              "        [10, 11, 12]],\n",
              "\n",
              "       [[13, 14, 15],\n",
              "        [16, 17, 18]]], dtype=int32)>"
            ]
          },
          "metadata": {},
          "execution_count": 26
        }
      ]
    },
    {
      "cell_type": "code",
      "source": [
        "tensor.ndim"
      ],
      "metadata": {
        "colab": {
          "base_uri": "https://localhost:8080/"
        },
        "id": "dAKANbRpQFd5",
        "outputId": "3398f6aa-ab5c-426b-d683-d9c20ecd3d4f"
      },
      "execution_count": 27,
      "outputs": [
        {
          "output_type": "execute_result",
          "data": {
            "text/plain": [
              "3"
            ]
          },
          "metadata": {},
          "execution_count": 27
        }
      ]
    },
    {
      "cell_type": "code",
      "source": [
        "# Make a tensor of all ones\n",
        "tensor = tf.ones(shape=(2,3,4,5))\n",
        "tensor"
      ],
      "metadata": {
        "colab": {
          "base_uri": "https://localhost:8080/"
        },
        "id": "AmBQYzfLRPK9",
        "outputId": "00cd1b57-1186-4394-f5e1-2b5d4ed4fed3"
      },
      "execution_count": 28,
      "outputs": [
        {
          "output_type": "execute_result",
          "data": {
            "text/plain": [
              "<tf.Tensor: shape=(2, 3, 4, 5), dtype=float32, numpy=\n",
              "array([[[[1., 1., 1., 1., 1.],\n",
              "         [1., 1., 1., 1., 1.],\n",
              "         [1., 1., 1., 1., 1.],\n",
              "         [1., 1., 1., 1., 1.]],\n",
              "\n",
              "        [[1., 1., 1., 1., 1.],\n",
              "         [1., 1., 1., 1., 1.],\n",
              "         [1., 1., 1., 1., 1.],\n",
              "         [1., 1., 1., 1., 1.]],\n",
              "\n",
              "        [[1., 1., 1., 1., 1.],\n",
              "         [1., 1., 1., 1., 1.],\n",
              "         [1., 1., 1., 1., 1.],\n",
              "         [1., 1., 1., 1., 1.]]],\n",
              "\n",
              "\n",
              "       [[[1., 1., 1., 1., 1.],\n",
              "         [1., 1., 1., 1., 1.],\n",
              "         [1., 1., 1., 1., 1.],\n",
              "         [1., 1., 1., 1., 1.]],\n",
              "\n",
              "        [[1., 1., 1., 1., 1.],\n",
              "         [1., 1., 1., 1., 1.],\n",
              "         [1., 1., 1., 1., 1.],\n",
              "         [1., 1., 1., 1., 1.]],\n",
              "\n",
              "        [[1., 1., 1., 1., 1.],\n",
              "         [1., 1., 1., 1., 1.],\n",
              "         [1., 1., 1., 1., 1.],\n",
              "         [1., 1., 1., 1., 1.]]]], dtype=float32)>"
            ]
          },
          "metadata": {},
          "execution_count": 28
        }
      ]
    },
    {
      "cell_type": "code",
      "source": [
        "tensor.ndim"
      ],
      "metadata": {
        "colab": {
          "base_uri": "https://localhost:8080/"
        },
        "id": "WP8_8EKSRToG",
        "outputId": "4668f30a-b6c3-4256-928c-e375b540b63a"
      },
      "execution_count": 29,
      "outputs": [
        {
          "output_type": "execute_result",
          "data": {
            "text/plain": [
              "4"
            ]
          },
          "metadata": {},
          "execution_count": 29
        }
      ]
    },
    {
      "cell_type": "code",
      "source": [
        "x"
      ],
      "metadata": {
        "colab": {
          "base_uri": "https://localhost:8080/"
        },
        "id": "LNKduSLoRmBj",
        "outputId": "f362e184-44f8-4e86-cea8-a566231051dd"
      },
      "execution_count": 30,
      "outputs": [
        {
          "output_type": "execute_result",
          "data": {
            "text/plain": [
              "<tf.Tensor: shape=(8,), dtype=int64, numpy=array([-7, -4, -1,  2,  5,  8, 11, 14])>"
            ]
          },
          "metadata": {},
          "execution_count": 30
        }
      ]
    },
    {
      "cell_type": "code",
      "source": [
        "y"
      ],
      "metadata": {
        "colab": {
          "base_uri": "https://localhost:8080/"
        },
        "id": "X5h2aZJeRpQ2",
        "outputId": "31e95ca4-feb6-4220-fd08-5aba93b4b607"
      },
      "execution_count": 31,
      "outputs": [
        {
          "output_type": "execute_result",
          "data": {
            "text/plain": [
              "<tf.Tensor: shape=(8,), dtype=int64, numpy=array([ 3,  6,  9, 12, 15, 18, 21, 24])>"
            ]
          },
          "metadata": {},
          "execution_count": 31
        }
      ]
    },
    {
      "cell_type": "code",
      "source": [
        "tf.expand_dims(x, axis = -1)"
      ],
      "metadata": {
        "colab": {
          "base_uri": "https://localhost:8080/"
        },
        "id": "kl4hYakPRwn0",
        "outputId": "58b9f9ed-ea82-46d7-ca56-97d3d24782b9"
      },
      "execution_count": 32,
      "outputs": [
        {
          "output_type": "execute_result",
          "data": {
            "text/plain": [
              "<tf.Tensor: shape=(8, 1), dtype=int64, numpy=\n",
              "array([[-7],\n",
              "       [-4],\n",
              "       [-1],\n",
              "       [ 2],\n",
              "       [ 5],\n",
              "       [ 8],\n",
              "       [11],\n",
              "       [14]])>"
            ]
          },
          "metadata": {},
          "execution_count": 32
        }
      ]
    },
    {
      "cell_type": "code",
      "source": [
        "tf.random.set_seed(3)\n",
        "\n",
        "model = tf.keras.Sequential([\n",
        "    tf.keras.layers.InputLayer(input_shape = (1,)),\n",
        "    tf.keras.layers.Dense(5, activation = \"relu\"),\n",
        "    tf.keras.layers.Dense(5, activation = \"relu\"),\n",
        "    tf.keras.layers.Dense(1, activation = \"linear\")\n",
        "\n",
        "])\n",
        "\n",
        "model.compile(\n",
        "    loss = \"mae\",\n",
        "    optimizer = \"sgd\",\n",
        "    metrics=[\"mse\"]\n",
        ")\n",
        "\n",
        "result=model.fit(tf.expand_dims(x, axis = -1), y,\n",
        "          epochs = 50)\n",
        "\n"
      ],
      "metadata": {
        "colab": {
          "base_uri": "https://localhost:8080/"
        },
        "id": "Nc_8AEbyWq4P",
        "outputId": "ebf04c6b-e08a-4d38-92a6-8be345e17fb3"
      },
      "execution_count": 52,
      "outputs": [
        {
          "output_type": "stream",
          "name": "stdout",
          "text": [
            "Epoch 1/50\n",
            "1/1 [==============================] - 0s 499ms/step - loss: 13.8387 - mse: 242.4049\n",
            "Epoch 2/50\n",
            "1/1 [==============================] - 0s 12ms/step - loss: 13.6437 - mse: 237.1721\n",
            "Epoch 3/50\n",
            "1/1 [==============================] - 0s 13ms/step - loss: 13.4586 - mse: 232.4264\n",
            "Epoch 4/50\n",
            "1/1 [==============================] - 0s 13ms/step - loss: 13.2777 - mse: 227.9371\n",
            "Epoch 5/50\n",
            "1/1 [==============================] - 0s 8ms/step - loss: 13.0908 - mse: 223.3247\n",
            "Epoch 6/50\n",
            "1/1 [==============================] - 0s 14ms/step - loss: 12.7858 - mse: 214.2481\n",
            "Epoch 7/50\n",
            "1/1 [==============================] - 0s 13ms/step - loss: 12.4692 - mse: 205.0871\n",
            "Epoch 8/50\n",
            "1/1 [==============================] - 0s 12ms/step - loss: 12.1358 - mse: 195.7010\n",
            "Epoch 9/50\n",
            "1/1 [==============================] - 0s 17ms/step - loss: 11.8291 - mse: 186.4595\n",
            "Epoch 10/50\n",
            "1/1 [==============================] - 0s 15ms/step - loss: 11.6446 - mse: 179.9351\n",
            "Epoch 11/50\n",
            "1/1 [==============================] - 0s 12ms/step - loss: 11.4438 - mse: 172.9566\n",
            "Epoch 12/50\n",
            "1/1 [==============================] - 0s 12ms/step - loss: 11.2226 - mse: 165.4339\n",
            "Epoch 13/50\n",
            "1/1 [==============================] - 0s 12ms/step - loss: 10.9768 - mse: 157.2713\n",
            "Epoch 14/50\n",
            "1/1 [==============================] - 0s 12ms/step - loss: 10.7007 - mse: 148.3678\n",
            "Epoch 15/50\n",
            "1/1 [==============================] - 0s 12ms/step - loss: 10.3879 - mse: 138.6197\n",
            "Epoch 16/50\n",
            "1/1 [==============================] - 0s 12ms/step - loss: 10.0301 - mse: 127.9261\n",
            "Epoch 17/50\n",
            "1/1 [==============================] - 0s 13ms/step - loss: 9.6170 - mse: 116.1998\n",
            "Epoch 18/50\n",
            "1/1 [==============================] - 0s 12ms/step - loss: 9.1360 - mse: 103.3861\n",
            "Epoch 19/50\n",
            "1/1 [==============================] - 0s 12ms/step - loss: 8.5704 - mse: 89.4981\n",
            "Epoch 20/50\n",
            "1/1 [==============================] - 0s 14ms/step - loss: 7.8994 - mse: 74.6779\n",
            "Epoch 21/50\n",
            "1/1 [==============================] - 0s 16ms/step - loss: 7.0954 - mse: 59.3052\n",
            "Epoch 22/50\n",
            "1/1 [==============================] - 0s 14ms/step - loss: 6.1219 - mse: 44.1888\n",
            "Epoch 23/50\n",
            "1/1 [==============================] - 0s 10ms/step - loss: 4.9306 - mse: 30.9104\n",
            "Epoch 24/50\n",
            "1/1 [==============================] - 0s 11ms/step - loss: 3.8759 - mse: 22.4483\n",
            "Epoch 25/50\n",
            "1/1 [==============================] - 0s 11ms/step - loss: 3.8275 - mse: 21.5361\n",
            "Epoch 26/50\n",
            "1/1 [==============================] - 0s 13ms/step - loss: 3.8297 - mse: 22.1606\n",
            "Epoch 27/50\n",
            "1/1 [==============================] - 0s 11ms/step - loss: 3.8331 - mse: 21.4505\n",
            "Epoch 28/50\n",
            "1/1 [==============================] - 0s 11ms/step - loss: 3.7826 - mse: 21.9081\n",
            "Epoch 29/50\n",
            "1/1 [==============================] - 0s 11ms/step - loss: 3.8394 - mse: 21.4118\n",
            "Epoch 30/50\n",
            "1/1 [==============================] - 0s 11ms/step - loss: 3.7348 - mse: 21.6936\n",
            "Epoch 31/50\n",
            "1/1 [==============================] - 0s 11ms/step - loss: 3.8463 - mse: 21.4236\n",
            "Epoch 32/50\n",
            "1/1 [==============================] - 0s 11ms/step - loss: 3.7255 - mse: 21.5202\n",
            "Epoch 33/50\n",
            "1/1 [==============================] - 0s 11ms/step - loss: 3.8099 - mse: 22.4085\n",
            "Epoch 34/50\n",
            "1/1 [==============================] - 0s 12ms/step - loss: 3.7323 - mse: 21.3919\n",
            "Epoch 35/50\n",
            "1/1 [==============================] - 0s 12ms/step - loss: 3.7620 - mse: 22.1145\n",
            "Epoch 36/50\n",
            "1/1 [==============================] - 0s 16ms/step - loss: 3.7397 - mse: 21.3114\n",
            "Epoch 37/50\n",
            "1/1 [==============================] - 0s 12ms/step - loss: 3.7419 - mse: 21.8592\n",
            "Epoch 38/50\n",
            "1/1 [==============================] - 0s 12ms/step - loss: 3.7803 - mse: 20.7380\n",
            "Epoch 39/50\n",
            "1/1 [==============================] - 0s 11ms/step - loss: 3.6652 - mse: 20.9766\n",
            "Epoch 40/50\n",
            "1/1 [==============================] - 0s 12ms/step - loss: 3.7887 - mse: 20.7645\n",
            "Epoch 41/50\n",
            "1/1 [==============================] - 0s 11ms/step - loss: 3.6695 - mse: 20.8064\n",
            "Epoch 42/50\n",
            "1/1 [==============================] - 0s 12ms/step - loss: 3.7381 - mse: 21.6327\n",
            "Epoch 43/50\n",
            "1/1 [==============================] - 0s 12ms/step - loss: 3.6777 - mse: 20.6867\n",
            "Epoch 44/50\n",
            "1/1 [==============================] - 0s 12ms/step - loss: 3.6893 - mse: 21.3367\n",
            "Epoch 45/50\n",
            "1/1 [==============================] - 0s 12ms/step - loss: 3.7190 - mse: 20.0888\n",
            "Epoch 46/50\n",
            "1/1 [==============================] - 0s 12ms/step - loss: 3.6386 - mse: 20.4294\n",
            "Epoch 47/50\n",
            "1/1 [==============================] - 0s 12ms/step - loss: 3.7282 - mse: 20.0823\n",
            "Epoch 48/50\n",
            "1/1 [==============================] - 0s 12ms/step - loss: 3.6113 - mse: 20.2237\n",
            "Epoch 49/50\n",
            "1/1 [==============================] - 0s 11ms/step - loss: 3.7088 - mse: 21.1200\n",
            "Epoch 50/50\n",
            "1/1 [==============================] - 0s 11ms/step - loss: 3.6203 - mse: 20.0709\n"
          ]
        }
      ]
    },
    {
      "cell_type": "code",
      "source": [
        "model.summary()"
      ],
      "metadata": {
        "colab": {
          "base_uri": "https://localhost:8080/"
        },
        "id": "VkiYG-9ldvkN",
        "outputId": "958f296c-58f6-4ed6-87a4-23a0a7a6153a"
      },
      "execution_count": 41,
      "outputs": [
        {
          "output_type": "stream",
          "name": "stdout",
          "text": [
            "Model: \"sequential_4\"\n",
            "_________________________________________________________________\n",
            " Layer (type)                Output Shape              Param #   \n",
            "=================================================================\n",
            " dense_12 (Dense)            (None, 5)                 10        \n",
            "                                                                 \n",
            " dense_13 (Dense)            (None, 5)                 30        \n",
            "                                                                 \n",
            " dense_14 (Dense)            (None, 1)                 6         \n",
            "                                                                 \n",
            "=================================================================\n",
            "Total params: 46\n",
            "Trainable params: 46\n",
            "Non-trainable params: 0\n",
            "_________________________________________________________________\n"
          ]
        }
      ]
    },
    {
      "cell_type": "code",
      "source": [
        "result.history"
      ],
      "metadata": {
        "colab": {
          "base_uri": "https://localhost:8080/"
        },
        "id": "KdDUoRB7d-iN",
        "outputId": "86d0742c-e2a7-4a4f-e9a0-0c20c25c47ed"
      },
      "execution_count": 53,
      "outputs": [
        {
          "output_type": "execute_result",
          "data": {
            "text/plain": [
              "{'loss': [13.838671684265137,\n",
              "  13.643682479858398,\n",
              "  13.45863151550293,\n",
              "  13.277737617492676,\n",
              "  13.090827941894531,\n",
              "  12.78581428527832,\n",
              "  12.469184875488281,\n",
              "  12.135766983032227,\n",
              "  11.829123497009277,\n",
              "  11.644647598266602,\n",
              "  11.44375228881836,\n",
              "  11.222635269165039,\n",
              "  10.976780891418457,\n",
              "  10.700748443603516,\n",
              "  10.387901306152344,\n",
              "  10.030061721801758,\n",
              "  9.617029190063477,\n",
              "  9.135951042175293,\n",
              "  8.57044792175293,\n",
              "  7.899419784545898,\n",
              "  7.095355033874512,\n",
              "  6.121936798095703,\n",
              "  4.9305739402771,\n",
              "  3.875854015350342,\n",
              "  3.827514171600342,\n",
              "  3.8296658992767334,\n",
              "  3.8331117630004883,\n",
              "  3.7826452255249023,\n",
              "  3.8393561840057373,\n",
              "  3.7347564697265625,\n",
              "  3.8462517261505127,\n",
              "  3.725527763366699,\n",
              "  3.809889554977417,\n",
              "  3.7322933673858643,\n",
              "  3.762000322341919,\n",
              "  3.7396833896636963,\n",
              "  3.7418954372406006,\n",
              "  3.780292510986328,\n",
              "  3.665210247039795,\n",
              "  3.788656711578369,\n",
              "  3.6695423126220703,\n",
              "  3.7381057739257812,\n",
              "  3.677717685699463,\n",
              "  3.6892948150634766,\n",
              "  3.718996286392212,\n",
              "  3.638620376586914,\n",
              "  3.7281601428985596,\n",
              "  3.611346483230591,\n",
              "  3.708772897720337,\n",
              "  3.6202893257141113],\n",
              " 'mse': [242.40487670898438,\n",
              "  237.17213439941406,\n",
              "  232.4264373779297,\n",
              "  227.9371337890625,\n",
              "  223.32469177246094,\n",
              "  214.24813842773438,\n",
              "  205.0870819091797,\n",
              "  195.70101928710938,\n",
              "  186.45950317382812,\n",
              "  179.9351043701172,\n",
              "  172.95655822753906,\n",
              "  165.4339141845703,\n",
              "  157.27133178710938,\n",
              "  148.3677978515625,\n",
              "  138.6196746826172,\n",
              "  127.9261474609375,\n",
              "  116.19979858398438,\n",
              "  103.38607788085938,\n",
              "  89.49807739257812,\n",
              "  74.67794799804688,\n",
              "  59.30524826049805,\n",
              "  44.1888427734375,\n",
              "  30.91041374206543,\n",
              "  22.448326110839844,\n",
              "  21.536128997802734,\n",
              "  22.160558700561523,\n",
              "  21.450489044189453,\n",
              "  21.908061981201172,\n",
              "  21.411827087402344,\n",
              "  21.69359588623047,\n",
              "  21.423633575439453,\n",
              "  21.520174026489258,\n",
              "  22.40848159790039,\n",
              "  21.391902923583984,\n",
              "  22.114458084106445,\n",
              "  21.31142234802246,\n",
              "  21.859161376953125,\n",
              "  20.738008499145508,\n",
              "  20.976606369018555,\n",
              "  20.76449966430664,\n",
              "  20.806396484375,\n",
              "  21.63274383544922,\n",
              "  20.686744689941406,\n",
              "  21.336650848388672,\n",
              "  20.088760375976562,\n",
              "  20.429370880126953,\n",
              "  20.082321166992188,\n",
              "  20.223674774169922,\n",
              "  21.12000846862793,\n",
              "  20.070919036865234]}"
            ]
          },
          "metadata": {},
          "execution_count": 53
        }
      ]
    },
    {
      "cell_type": "code",
      "source": [
        "import pandas as pd\n",
        "import matplotlib.pyplot as plt\n"
      ],
      "metadata": {
        "id": "kEldYrJ6fIGA"
      },
      "execution_count": 54,
      "outputs": []
    },
    {
      "cell_type": "code",
      "source": [
        "result_df=pd.DataFrame(result.history)\n",
        "result_df"
      ],
      "metadata": {
        "colab": {
          "base_uri": "https://localhost:8080/",
          "height": 1000
        },
        "id": "tmRMxqKffUIC",
        "outputId": "289aa0c4-3fc5-41c7-eb06-5a03904a1179"
      },
      "execution_count": 55,
      "outputs": [
        {
          "output_type": "execute_result",
          "data": {
            "text/plain": [
              "         loss         mse\n",
              "0   13.838672  242.404877\n",
              "1   13.643682  237.172134\n",
              "2   13.458632  232.426437\n",
              "3   13.277738  227.937134\n",
              "4   13.090828  223.324692\n",
              "5   12.785814  214.248138\n",
              "6   12.469185  205.087082\n",
              "7   12.135767  195.701019\n",
              "8   11.829123  186.459503\n",
              "9   11.644648  179.935104\n",
              "10  11.443752  172.956558\n",
              "11  11.222635  165.433914\n",
              "12  10.976781  157.271332\n",
              "13  10.700748  148.367798\n",
              "14  10.387901  138.619675\n",
              "15  10.030062  127.926147\n",
              "16   9.617029  116.199799\n",
              "17   9.135951  103.386078\n",
              "18   8.570448   89.498077\n",
              "19   7.899420   74.677948\n",
              "20   7.095355   59.305248\n",
              "21   6.121937   44.188843\n",
              "22   4.930574   30.910414\n",
              "23   3.875854   22.448326\n",
              "24   3.827514   21.536129\n",
              "25   3.829666   22.160559\n",
              "26   3.833112   21.450489\n",
              "27   3.782645   21.908062\n",
              "28   3.839356   21.411827\n",
              "29   3.734756   21.693596\n",
              "30   3.846252   21.423634\n",
              "31   3.725528   21.520174\n",
              "32   3.809890   22.408482\n",
              "33   3.732293   21.391903\n",
              "34   3.762000   22.114458\n",
              "35   3.739683   21.311422\n",
              "36   3.741895   21.859161\n",
              "37   3.780293   20.738008\n",
              "38   3.665210   20.976606\n",
              "39   3.788657   20.764500\n",
              "40   3.669542   20.806396\n",
              "41   3.738106   21.632744\n",
              "42   3.677718   20.686745\n",
              "43   3.689295   21.336651\n",
              "44   3.718996   20.088760\n",
              "45   3.638620   20.429371\n",
              "46   3.728160   20.082321\n",
              "47   3.611346   20.223675\n",
              "48   3.708773   21.120008\n",
              "49   3.620289   20.070919"
            ],
            "text/html": [
              "\n",
              "\n",
              "  <div id=\"df-fb7870ea-1b5c-440a-a036-6a51cd574a3a\">\n",
              "    <div class=\"colab-df-container\">\n",
              "      <div>\n",
              "<style scoped>\n",
              "    .dataframe tbody tr th:only-of-type {\n",
              "        vertical-align: middle;\n",
              "    }\n",
              "\n",
              "    .dataframe tbody tr th {\n",
              "        vertical-align: top;\n",
              "    }\n",
              "\n",
              "    .dataframe thead th {\n",
              "        text-align: right;\n",
              "    }\n",
              "</style>\n",
              "<table border=\"1\" class=\"dataframe\">\n",
              "  <thead>\n",
              "    <tr style=\"text-align: right;\">\n",
              "      <th></th>\n",
              "      <th>loss</th>\n",
              "      <th>mse</th>\n",
              "    </tr>\n",
              "  </thead>\n",
              "  <tbody>\n",
              "    <tr>\n",
              "      <th>0</th>\n",
              "      <td>13.838672</td>\n",
              "      <td>242.404877</td>\n",
              "    </tr>\n",
              "    <tr>\n",
              "      <th>1</th>\n",
              "      <td>13.643682</td>\n",
              "      <td>237.172134</td>\n",
              "    </tr>\n",
              "    <tr>\n",
              "      <th>2</th>\n",
              "      <td>13.458632</td>\n",
              "      <td>232.426437</td>\n",
              "    </tr>\n",
              "    <tr>\n",
              "      <th>3</th>\n",
              "      <td>13.277738</td>\n",
              "      <td>227.937134</td>\n",
              "    </tr>\n",
              "    <tr>\n",
              "      <th>4</th>\n",
              "      <td>13.090828</td>\n",
              "      <td>223.324692</td>\n",
              "    </tr>\n",
              "    <tr>\n",
              "      <th>5</th>\n",
              "      <td>12.785814</td>\n",
              "      <td>214.248138</td>\n",
              "    </tr>\n",
              "    <tr>\n",
              "      <th>6</th>\n",
              "      <td>12.469185</td>\n",
              "      <td>205.087082</td>\n",
              "    </tr>\n",
              "    <tr>\n",
              "      <th>7</th>\n",
              "      <td>12.135767</td>\n",
              "      <td>195.701019</td>\n",
              "    </tr>\n",
              "    <tr>\n",
              "      <th>8</th>\n",
              "      <td>11.829123</td>\n",
              "      <td>186.459503</td>\n",
              "    </tr>\n",
              "    <tr>\n",
              "      <th>9</th>\n",
              "      <td>11.644648</td>\n",
              "      <td>179.935104</td>\n",
              "    </tr>\n",
              "    <tr>\n",
              "      <th>10</th>\n",
              "      <td>11.443752</td>\n",
              "      <td>172.956558</td>\n",
              "    </tr>\n",
              "    <tr>\n",
              "      <th>11</th>\n",
              "      <td>11.222635</td>\n",
              "      <td>165.433914</td>\n",
              "    </tr>\n",
              "    <tr>\n",
              "      <th>12</th>\n",
              "      <td>10.976781</td>\n",
              "      <td>157.271332</td>\n",
              "    </tr>\n",
              "    <tr>\n",
              "      <th>13</th>\n",
              "      <td>10.700748</td>\n",
              "      <td>148.367798</td>\n",
              "    </tr>\n",
              "    <tr>\n",
              "      <th>14</th>\n",
              "      <td>10.387901</td>\n",
              "      <td>138.619675</td>\n",
              "    </tr>\n",
              "    <tr>\n",
              "      <th>15</th>\n",
              "      <td>10.030062</td>\n",
              "      <td>127.926147</td>\n",
              "    </tr>\n",
              "    <tr>\n",
              "      <th>16</th>\n",
              "      <td>9.617029</td>\n",
              "      <td>116.199799</td>\n",
              "    </tr>\n",
              "    <tr>\n",
              "      <th>17</th>\n",
              "      <td>9.135951</td>\n",
              "      <td>103.386078</td>\n",
              "    </tr>\n",
              "    <tr>\n",
              "      <th>18</th>\n",
              "      <td>8.570448</td>\n",
              "      <td>89.498077</td>\n",
              "    </tr>\n",
              "    <tr>\n",
              "      <th>19</th>\n",
              "      <td>7.899420</td>\n",
              "      <td>74.677948</td>\n",
              "    </tr>\n",
              "    <tr>\n",
              "      <th>20</th>\n",
              "      <td>7.095355</td>\n",
              "      <td>59.305248</td>\n",
              "    </tr>\n",
              "    <tr>\n",
              "      <th>21</th>\n",
              "      <td>6.121937</td>\n",
              "      <td>44.188843</td>\n",
              "    </tr>\n",
              "    <tr>\n",
              "      <th>22</th>\n",
              "      <td>4.930574</td>\n",
              "      <td>30.910414</td>\n",
              "    </tr>\n",
              "    <tr>\n",
              "      <th>23</th>\n",
              "      <td>3.875854</td>\n",
              "      <td>22.448326</td>\n",
              "    </tr>\n",
              "    <tr>\n",
              "      <th>24</th>\n",
              "      <td>3.827514</td>\n",
              "      <td>21.536129</td>\n",
              "    </tr>\n",
              "    <tr>\n",
              "      <th>25</th>\n",
              "      <td>3.829666</td>\n",
              "      <td>22.160559</td>\n",
              "    </tr>\n",
              "    <tr>\n",
              "      <th>26</th>\n",
              "      <td>3.833112</td>\n",
              "      <td>21.450489</td>\n",
              "    </tr>\n",
              "    <tr>\n",
              "      <th>27</th>\n",
              "      <td>3.782645</td>\n",
              "      <td>21.908062</td>\n",
              "    </tr>\n",
              "    <tr>\n",
              "      <th>28</th>\n",
              "      <td>3.839356</td>\n",
              "      <td>21.411827</td>\n",
              "    </tr>\n",
              "    <tr>\n",
              "      <th>29</th>\n",
              "      <td>3.734756</td>\n",
              "      <td>21.693596</td>\n",
              "    </tr>\n",
              "    <tr>\n",
              "      <th>30</th>\n",
              "      <td>3.846252</td>\n",
              "      <td>21.423634</td>\n",
              "    </tr>\n",
              "    <tr>\n",
              "      <th>31</th>\n",
              "      <td>3.725528</td>\n",
              "      <td>21.520174</td>\n",
              "    </tr>\n",
              "    <tr>\n",
              "      <th>32</th>\n",
              "      <td>3.809890</td>\n",
              "      <td>22.408482</td>\n",
              "    </tr>\n",
              "    <tr>\n",
              "      <th>33</th>\n",
              "      <td>3.732293</td>\n",
              "      <td>21.391903</td>\n",
              "    </tr>\n",
              "    <tr>\n",
              "      <th>34</th>\n",
              "      <td>3.762000</td>\n",
              "      <td>22.114458</td>\n",
              "    </tr>\n",
              "    <tr>\n",
              "      <th>35</th>\n",
              "      <td>3.739683</td>\n",
              "      <td>21.311422</td>\n",
              "    </tr>\n",
              "    <tr>\n",
              "      <th>36</th>\n",
              "      <td>3.741895</td>\n",
              "      <td>21.859161</td>\n",
              "    </tr>\n",
              "    <tr>\n",
              "      <th>37</th>\n",
              "      <td>3.780293</td>\n",
              "      <td>20.738008</td>\n",
              "    </tr>\n",
              "    <tr>\n",
              "      <th>38</th>\n",
              "      <td>3.665210</td>\n",
              "      <td>20.976606</td>\n",
              "    </tr>\n",
              "    <tr>\n",
              "      <th>39</th>\n",
              "      <td>3.788657</td>\n",
              "      <td>20.764500</td>\n",
              "    </tr>\n",
              "    <tr>\n",
              "      <th>40</th>\n",
              "      <td>3.669542</td>\n",
              "      <td>20.806396</td>\n",
              "    </tr>\n",
              "    <tr>\n",
              "      <th>41</th>\n",
              "      <td>3.738106</td>\n",
              "      <td>21.632744</td>\n",
              "    </tr>\n",
              "    <tr>\n",
              "      <th>42</th>\n",
              "      <td>3.677718</td>\n",
              "      <td>20.686745</td>\n",
              "    </tr>\n",
              "    <tr>\n",
              "      <th>43</th>\n",
              "      <td>3.689295</td>\n",
              "      <td>21.336651</td>\n",
              "    </tr>\n",
              "    <tr>\n",
              "      <th>44</th>\n",
              "      <td>3.718996</td>\n",
              "      <td>20.088760</td>\n",
              "    </tr>\n",
              "    <tr>\n",
              "      <th>45</th>\n",
              "      <td>3.638620</td>\n",
              "      <td>20.429371</td>\n",
              "    </tr>\n",
              "    <tr>\n",
              "      <th>46</th>\n",
              "      <td>3.728160</td>\n",
              "      <td>20.082321</td>\n",
              "    </tr>\n",
              "    <tr>\n",
              "      <th>47</th>\n",
              "      <td>3.611346</td>\n",
              "      <td>20.223675</td>\n",
              "    </tr>\n",
              "    <tr>\n",
              "      <th>48</th>\n",
              "      <td>3.708773</td>\n",
              "      <td>21.120008</td>\n",
              "    </tr>\n",
              "    <tr>\n",
              "      <th>49</th>\n",
              "      <td>3.620289</td>\n",
              "      <td>20.070919</td>\n",
              "    </tr>\n",
              "  </tbody>\n",
              "</table>\n",
              "</div>\n",
              "      <button class=\"colab-df-convert\" onclick=\"convertToInteractive('df-fb7870ea-1b5c-440a-a036-6a51cd574a3a')\"\n",
              "              title=\"Convert this dataframe to an interactive table.\"\n",
              "              style=\"display:none;\">\n",
              "\n",
              "  <svg xmlns=\"http://www.w3.org/2000/svg\" height=\"24px\"viewBox=\"0 0 24 24\"\n",
              "       width=\"24px\">\n",
              "    <path d=\"M0 0h24v24H0V0z\" fill=\"none\"/>\n",
              "    <path d=\"M18.56 5.44l.94 2.06.94-2.06 2.06-.94-2.06-.94-.94-2.06-.94 2.06-2.06.94zm-11 1L8.5 8.5l.94-2.06 2.06-.94-2.06-.94L8.5 2.5l-.94 2.06-2.06.94zm10 10l.94 2.06.94-2.06 2.06-.94-2.06-.94-.94-2.06-.94 2.06-2.06.94z\"/><path d=\"M17.41 7.96l-1.37-1.37c-.4-.4-.92-.59-1.43-.59-.52 0-1.04.2-1.43.59L10.3 9.45l-7.72 7.72c-.78.78-.78 2.05 0 2.83L4 21.41c.39.39.9.59 1.41.59.51 0 1.02-.2 1.41-.59l7.78-7.78 2.81-2.81c.8-.78.8-2.07 0-2.86zM5.41 20L4 18.59l7.72-7.72 1.47 1.35L5.41 20z\"/>\n",
              "  </svg>\n",
              "      </button>\n",
              "\n",
              "\n",
              "\n",
              "    <div id=\"df-a4b42ec5-5135-4265-a9c4-69049f7f2165\">\n",
              "      <button class=\"colab-df-quickchart\" onclick=\"quickchart('df-a4b42ec5-5135-4265-a9c4-69049f7f2165')\"\n",
              "              title=\"Suggest charts.\"\n",
              "              style=\"display:none;\">\n",
              "\n",
              "<svg xmlns=\"http://www.w3.org/2000/svg\" height=\"24px\"viewBox=\"0 0 24 24\"\n",
              "     width=\"24px\">\n",
              "    <g>\n",
              "        <path d=\"M19 3H5c-1.1 0-2 .9-2 2v14c0 1.1.9 2 2 2h14c1.1 0 2-.9 2-2V5c0-1.1-.9-2-2-2zM9 17H7v-7h2v7zm4 0h-2V7h2v10zm4 0h-2v-4h2v4z\"/>\n",
              "    </g>\n",
              "</svg>\n",
              "      </button>\n",
              "    </div>\n",
              "\n",
              "<style>\n",
              "  .colab-df-quickchart {\n",
              "    background-color: #E8F0FE;\n",
              "    border: none;\n",
              "    border-radius: 50%;\n",
              "    cursor: pointer;\n",
              "    display: none;\n",
              "    fill: #1967D2;\n",
              "    height: 32px;\n",
              "    padding: 0 0 0 0;\n",
              "    width: 32px;\n",
              "  }\n",
              "\n",
              "  .colab-df-quickchart:hover {\n",
              "    background-color: #E2EBFA;\n",
              "    box-shadow: 0px 1px 2px rgba(60, 64, 67, 0.3), 0px 1px 3px 1px rgba(60, 64, 67, 0.15);\n",
              "    fill: #174EA6;\n",
              "  }\n",
              "\n",
              "  [theme=dark] .colab-df-quickchart {\n",
              "    background-color: #3B4455;\n",
              "    fill: #D2E3FC;\n",
              "  }\n",
              "\n",
              "  [theme=dark] .colab-df-quickchart:hover {\n",
              "    background-color: #434B5C;\n",
              "    box-shadow: 0px 1px 3px 1px rgba(0, 0, 0, 0.15);\n",
              "    filter: drop-shadow(0px 1px 2px rgba(0, 0, 0, 0.3));\n",
              "    fill: #FFFFFF;\n",
              "  }\n",
              "</style>\n",
              "\n",
              "    <script>\n",
              "      async function quickchart(key) {\n",
              "        const containerElement = document.querySelector('#' + key);\n",
              "        const charts = await google.colab.kernel.invokeFunction(\n",
              "            'suggestCharts', [key], {});\n",
              "      }\n",
              "    </script>\n",
              "\n",
              "      <script>\n",
              "\n",
              "function displayQuickchartButton(domScope) {\n",
              "  let quickchartButtonEl =\n",
              "    domScope.querySelector('#df-a4b42ec5-5135-4265-a9c4-69049f7f2165 button.colab-df-quickchart');\n",
              "  quickchartButtonEl.style.display =\n",
              "    google.colab.kernel.accessAllowed ? 'block' : 'none';\n",
              "}\n",
              "\n",
              "        displayQuickchartButton(document);\n",
              "      </script>\n",
              "      <style>\n",
              "    .colab-df-container {\n",
              "      display:flex;\n",
              "      flex-wrap:wrap;\n",
              "      gap: 12px;\n",
              "    }\n",
              "\n",
              "    .colab-df-convert {\n",
              "      background-color: #E8F0FE;\n",
              "      border: none;\n",
              "      border-radius: 50%;\n",
              "      cursor: pointer;\n",
              "      display: none;\n",
              "      fill: #1967D2;\n",
              "      height: 32px;\n",
              "      padding: 0 0 0 0;\n",
              "      width: 32px;\n",
              "    }\n",
              "\n",
              "    .colab-df-convert:hover {\n",
              "      background-color: #E2EBFA;\n",
              "      box-shadow: 0px 1px 2px rgba(60, 64, 67, 0.3), 0px 1px 3px 1px rgba(60, 64, 67, 0.15);\n",
              "      fill: #174EA6;\n",
              "    }\n",
              "\n",
              "    [theme=dark] .colab-df-convert {\n",
              "      background-color: #3B4455;\n",
              "      fill: #D2E3FC;\n",
              "    }\n",
              "\n",
              "    [theme=dark] .colab-df-convert:hover {\n",
              "      background-color: #434B5C;\n",
              "      box-shadow: 0px 1px 3px 1px rgba(0, 0, 0, 0.15);\n",
              "      filter: drop-shadow(0px 1px 2px rgba(0, 0, 0, 0.3));\n",
              "      fill: #FFFFFF;\n",
              "    }\n",
              "  </style>\n",
              "\n",
              "      <script>\n",
              "        const buttonEl =\n",
              "          document.querySelector('#df-fb7870ea-1b5c-440a-a036-6a51cd574a3a button.colab-df-convert');\n",
              "        buttonEl.style.display =\n",
              "          google.colab.kernel.accessAllowed ? 'block' : 'none';\n",
              "\n",
              "        async function convertToInteractive(key) {\n",
              "          const element = document.querySelector('#df-fb7870ea-1b5c-440a-a036-6a51cd574a3a');\n",
              "          const dataTable =\n",
              "            await google.colab.kernel.invokeFunction('convertToInteractive',\n",
              "                                                     [key], {});\n",
              "          if (!dataTable) return;\n",
              "\n",
              "          const docLinkHtml = 'Like what you see? Visit the ' +\n",
              "            '<a target=\"_blank\" href=https://colab.research.google.com/notebooks/data_table.ipynb>data table notebook</a>'\n",
              "            + ' to learn more about interactive tables.';\n",
              "          element.innerHTML = '';\n",
              "          dataTable['output_type'] = 'display_data';\n",
              "          await google.colab.output.renderOutput(dataTable, element);\n",
              "          const docLink = document.createElement('div');\n",
              "          docLink.innerHTML = docLinkHtml;\n",
              "          element.appendChild(docLink);\n",
              "        }\n",
              "      </script>\n",
              "    </div>\n",
              "  </div>\n"
            ]
          },
          "metadata": {},
          "execution_count": 55
        }
      ]
    },
    {
      "cell_type": "code",
      "source": [
        "plt.plot(result_df[\"loss\"], label = \"mae\")\n",
        "plt.plot(result_df[\"mse\"],label=\"mse\")\n",
        "plt.legend()\n",
        "plt.show()"
      ],
      "metadata": {
        "colab": {
          "base_uri": "https://localhost:8080/",
          "height": 430
        },
        "id": "UBwdAhO9hDvF",
        "outputId": "9f74c1a1-6542-4908-e718-c371cd6c9631"
      },
      "execution_count": 56,
      "outputs": [
        {
          "output_type": "display_data",
          "data": {
            "text/plain": [
              "<Figure size 640x480 with 1 Axes>"
            ],
            "image/png": "[encoded data removed]"
          },
          "metadata": {}
        }
      ]
    },
    {
      "cell_type": "code",
      "source": [
        "plt.plot(result_df[\"loss\"],label=\"mae\")\n",
        "plt.plot(result_df[\"mse\"], label=\"mse\")\n",
        "plt.legend()\n",
        "plt.show()"
      ],
      "metadata": {
        "colab": {
          "base_uri": "https://localhost:8080/",
          "height": 430
        },
        "id": "dF1gCpCUf7UX",
        "outputId": "7c9869cc-cbfb-4e55-a898-23366fb6ee77"
      },
      "execution_count": 57,
      "outputs": [
        {
          "output_type": "display_data",
          "data": {
            "text/plain": [
              "<Figure size 640x480 with 1 Axes>"
            ],
            "image/png": "[encoded data removed]"
          },
          "metadata": {}
        }
      ]
    },
    {
      "cell_type": "code",
      "source": [
        "x\n"
      ],
      "metadata": {
        "colab": {
          "base_uri": "https://localhost:8080/"
        },
        "id": "O2u4yKSbiGCJ",
        "outputId": "1ad67964-53e9-4835-8a75-170857b7ee3a"
      },
      "execution_count": 62,
      "outputs": [
        {
          "output_type": "execute_result",
          "data": {
            "text/plain": [
              "<tf.Tensor: shape=(8,), dtype=int64, numpy=array([-7, -4, -1,  2,  5,  8, 11, 14])>"
            ]
          },
          "metadata": {},
          "execution_count": 62
        }
      ]
    },
    {
      "cell_type": "code",
      "source": [
        "y"
      ],
      "metadata": {
        "colab": {
          "base_uri": "https://localhost:8080/"
        },
        "id": "ye9EDKhXiKxb",
        "outputId": "3b8ae582-7a48-4458-fe30-9440ed6f7a81"
      },
      "execution_count": 63,
      "outputs": [
        {
          "output_type": "execute_result",
          "data": {
            "text/plain": [
              "<tf.Tensor: shape=(8,), dtype=int64, numpy=array([ 3,  6,  9, 12, 15, 18, 21, 24])>"
            ]
          },
          "metadata": {},
          "execution_count": 63
        }
      ]
    },
    {
      "cell_type": "code",
      "source": [
        "model.predict([2])"
      ],
      "metadata": {
        "colab": {
          "base_uri": "https://localhost:8080/"
        },
        "id": "uc1ZRfooh5j6",
        "outputId": "e81e49dd-c7e4-4367-8aa7-69776a9150be"
      },
      "execution_count": 64,
      "outputs": [
        {
          "output_type": "stream",
          "name": "stdout",
          "text": [
            "1/1 [==============================] - 0s 72ms/step\n"
          ]
        },
        {
          "output_type": "execute_result",
          "data": {
            "text/plain": [
              "array([[4.652519]], dtype=float32)"
            ]
          },
          "metadata": {},
          "execution_count": 64
        }
      ]
    },
    {
      "cell_type": "code",
      "source": [
        "import os\n",
        "import random\n",
        "def set_seed(seed: int = 42) -> None:\n",
        "  random.seed(seed)\n",
        "  np.random.seed(seed)\n",
        "  tf.random.set_seed(seed)\n",
        "  tf.experimental.numpy.random.seed(seed)\n",
        "  tf.random.set_seed(seed)\n",
        "  # When running on the CuDNN backend, two further options must be set\n",
        "  os.environ['TF_CUDNN_DETERMINISTIC'] = '1'\n",
        "  os.environ['TF_DETERMINISTIC_OPS'] = '1'\n",
        "  # Set a fixed value for the hash seed\n",
        "  os.environ[\"PYTHONHASHSEED\"] = str(seed)\n",
        "  print(f\"Random seed set as {seed}\")\n"
      ],
      "metadata": {
        "id": "lY4mLRWIiSsr"
      },
      "execution_count": 65,
      "outputs": []
    },
    {
      "cell_type": "code",
      "source": [
        "set_seed(3)\n",
        "\n",
        "model1 = tf.keras.Sequential([\n",
        "    tf.keras.layers.InputLayer(input_shape = (1,)),\n",
        "    tf.keras.layers.Dense(10, activation = \"relu\"),\n",
        "    tf.keras.layers.Dense(10, activation = \"relu\"),\n",
        "    tf.keras.layers.Dense(1, activation = \"linear\")\n",
        "\n",
        "])\n",
        "\n",
        "model1.compile(\n",
        "    loss = \"mae\",\n",
        "    optimizer = \"sgd\",\n",
        "     metrics =  [\"mse\"]\n",
        ")\n",
        "\n",
        "results = model1.fit(tf.expand_dims(x, axis = -1), y,\n",
        "          epochs = 150)\n"
      ],
      "metadata": {
        "colab": {
          "base_uri": "https://localhost:8080/"
        },
        "id": "6D4-4BjAitiM",
        "outputId": "d4510a81-ce11-4041-f2e0-d0d5a57ebe04"
      },
      "execution_count": 90,
      "outputs": [
        {
          "output_type": "stream",
          "name": "stdout",
          "text": [
            "Random seed set as 3\n",
            "Epoch 1/150\n",
            "1/1 [==============================] - 1s 673ms/step - loss: 13.7065 - mse: 255.5494\n",
            "Epoch 2/150\n",
            "1/1 [==============================] - 0s 18ms/step - loss: 13.1986 - mse: 236.8687\n",
            "Epoch 3/150\n",
            "1/1 [==============================] - 0s 13ms/step - loss: 12.7036 - mse: 219.2564\n",
            "Epoch 4/150\n",
            "1/1 [==============================] - 0s 15ms/step - loss: 12.2692 - mse: 202.4027\n",
            "Epoch 5/150\n",
            "1/1 [==============================] - 0s 13ms/step - loss: 11.6461 - mse: 179.4989\n",
            "Epoch 6/150\n",
            "1/1 [==============================] - 0s 11ms/step - loss: 10.9909 - mse: 157.0910\n",
            "Epoch 7/150\n",
            "1/1 [==============================] - 0s 10ms/step - loss: 10.2821 - mse: 134.7882\n",
            "Epoch 8/150\n",
            "1/1 [==============================] - 0s 10ms/step - loss: 9.4950 - mse: 112.3881\n",
            "Epoch 9/150\n",
            "1/1 [==============================] - 0s 17ms/step - loss: 8.5995 - mse: 89.9489\n",
            "Epoch 10/150\n",
            "1/1 [==============================] - 0s 15ms/step - loss: 7.5576 - mse: 67.9247\n",
            "Epoch 11/150\n",
            "1/1 [==============================] - 0s 10ms/step - loss: 6.2528 - mse: 46.5500\n",
            "Epoch 12/150\n",
            "1/1 [==============================] - 0s 10ms/step - loss: 4.5616 - mse: 29.1491\n",
            "Epoch 13/150\n",
            "1/1 [==============================] - 0s 10ms/step - loss: 4.0628 - mse: 23.6727\n",
            "Epoch 14/150\n",
            "1/1 [==============================] - 0s 11ms/step - loss: 3.9143 - mse: 23.4752\n",
            "Epoch 15/150\n",
            "1/1 [==============================] - 0s 12ms/step - loss: 3.9868 - mse: 24.4461\n",
            "Epoch 16/150\n",
            "1/1 [==============================] - 0s 10ms/step - loss: 3.9365 - mse: 23.3424\n",
            "Epoch 17/150\n",
            "1/1 [==============================] - 0s 11ms/step - loss: 3.9389 - mse: 24.0839\n",
            "Epoch 18/150\n",
            "1/1 [==============================] - 0s 17ms/step - loss: 3.9481 - mse: 23.2728\n",
            "Epoch 19/150\n",
            "1/1 [==============================] - 0s 11ms/step - loss: 3.8900 - mse: 23.7626\n",
            "Epoch 20/150\n",
            "1/1 [==============================] - 0s 13ms/step - loss: 3.9578 - mse: 23.2473\n",
            "Epoch 21/150\n",
            "1/1 [==============================] - 0s 12ms/step - loss: 3.8500 - mse: 23.4851\n",
            "Epoch 22/150\n",
            "1/1 [==============================] - 0s 11ms/step - loss: 3.9832 - mse: 22.8886\n",
            "Epoch 23/150\n",
            "1/1 [==============================] - 0s 10ms/step - loss: 3.8376 - mse: 22.8297\n",
            "Epoch 24/150\n",
            "1/1 [==============================] - 0s 11ms/step - loss: 3.9401 - mse: 23.8778\n",
            "Epoch 25/150\n",
            "1/1 [==============================] - 0s 10ms/step - loss: 3.8619 - mse: 22.6603\n",
            "Epoch 26/150\n",
            "1/1 [==============================] - 0s 17ms/step - loss: 3.8915 - mse: 23.4904\n",
            "Epoch 27/150\n",
            "1/1 [==============================] - 0s 17ms/step - loss: 3.8767 - mse: 22.5715\n",
            "Epoch 28/150\n",
            "1/1 [==============================] - 0s 13ms/step - loss: 3.8395 - mse: 23.1305\n",
            "Epoch 29/150\n",
            "1/1 [==============================] - 0s 14ms/step - loss: 3.8878 - mse: 22.5324\n",
            "Epoch 30/150\n",
            "1/1 [==============================] - 0s 11ms/step - loss: 3.8017 - mse: 22.8299\n",
            "Epoch 31/150\n",
            "1/1 [==============================] - 0s 12ms/step - loss: 3.9134 - mse: 22.1578\n",
            "Epoch 32/150\n",
            "1/1 [==============================] - 0s 13ms/step - loss: 3.7680 - mse: 22.1480\n",
            "Epoch 33/150\n",
            "1/1 [==============================] - 0s 11ms/step - loss: 3.9052 - mse: 23.3578\n",
            "Epoch 34/150\n",
            "1/1 [==============================] - 0s 12ms/step - loss: 3.7858 - mse: 21.9628\n",
            "Epoch 35/150\n",
            "1/1 [==============================] - 0s 14ms/step - loss: 3.8453 - mse: 22.8737\n",
            "Epoch 36/150\n",
            "1/1 [==============================] - 0s 12ms/step - loss: 3.8031 - mse: 21.8562\n",
            "Epoch 37/150\n",
            "1/1 [==============================] - 0s 14ms/step - loss: 3.7936 - mse: 22.4863\n",
            "Epoch 38/150\n",
            "1/1 [==============================] - 0s 15ms/step - loss: 3.8172 - mse: 21.8022\n",
            "Epoch 39/150\n",
            "1/1 [==============================] - 0s 15ms/step - loss: 3.7442 - mse: 22.1450\n",
            "Epoch 40/150\n",
            "1/1 [==============================] - 0s 13ms/step - loss: 3.8483 - mse: 21.4377\n",
            "Epoch 41/150\n",
            "1/1 [==============================] - 0s 13ms/step - loss: 3.7048 - mse: 21.4521\n",
            "Epoch 42/150\n",
            "1/1 [==============================] - 0s 12ms/step - loss: 3.8483 - mse: 22.6679\n",
            "Epoch 43/150\n",
            "1/1 [==============================] - 0s 13ms/step - loss: 3.7239 - mse: 21.2565\n",
            "Epoch 44/150\n",
            "1/1 [==============================] - 0s 11ms/step - loss: 3.7857 - mse: 22.1613\n",
            "Epoch 45/150\n",
            "1/1 [==============================] - 0s 11ms/step - loss: 3.7423 - mse: 21.1473\n",
            "Epoch 46/150\n",
            "1/1 [==============================] - 0s 11ms/step - loss: 3.7265 - mse: 21.7447\n",
            "Epoch 47/150\n",
            "1/1 [==============================] - 0s 9ms/step - loss: 3.7614 - mse: 21.1305\n",
            "Epoch 48/150\n",
            "1/1 [==============================] - 0s 10ms/step - loss: 3.6761 - mse: 21.4043\n",
            "Epoch 49/150\n",
            "1/1 [==============================] - 0s 11ms/step - loss: 3.7936 - mse: 20.7909\n",
            "Epoch 50/150\n",
            "1/1 [==============================] - 0s 9ms/step - loss: 3.6512 - mse: 20.7222\n",
            "Epoch 51/150\n",
            "1/1 [==============================] - 0s 13ms/step - loss: 3.7748 - mse: 21.8497\n",
            "Epoch 52/150\n",
            "1/1 [==============================] - 0s 15ms/step - loss: 3.6703 - mse: 20.5390\n",
            "Epoch 53/150\n",
            "1/1 [==============================] - 0s 16ms/step - loss: 3.7142 - mse: 21.3593\n",
            "Epoch 54/150\n",
            "1/1 [==============================] - 0s 15ms/step - loss: 3.6901 - mse: 20.4514\n",
            "Epoch 55/150\n",
            "1/1 [==============================] - 0s 17ms/step - loss: 3.6523 - mse: 20.9476\n",
            "Epoch 56/150\n",
            "1/1 [==============================] - 0s 13ms/step - loss: 3.7106 - mse: 20.4666\n",
            "Epoch 57/150\n",
            "1/1 [==============================] - 0s 10ms/step - loss: 3.5969 - mse: 20.6206\n",
            "Epoch 58/150\n",
            "1/1 [==============================] - 0s 11ms/step - loss: 3.7439 - mse: 20.1699\n",
            "Epoch 59/150\n",
            "1/1 [==============================] - 0s 9ms/step - loss: 3.6019 - mse: 19.9637\n",
            "Epoch 60/150\n",
            "1/1 [==============================] - 0s 9ms/step - loss: 3.6964 - mse: 20.9660\n",
            "Epoch 61/150\n",
            "1/1 [==============================] - 0s 18ms/step - loss: 3.6224 - mse: 19.8126\n",
            "Epoch 62/150\n",
            "1/1 [==============================] - 0s 13ms/step - loss: 3.6330 - mse: 20.4885\n",
            "Epoch 63/150\n",
            "1/1 [==============================] - 0s 10ms/step - loss: 3.6437 - mse: 19.7685\n",
            "Epoch 64/150\n",
            "1/1 [==============================] - 0s 10ms/step - loss: 3.5682 - mse: 20.0991\n",
            "Epoch 65/150\n",
            "1/1 [==============================] - 0s 10ms/step - loss: 3.6657 - mse: 19.8400\n",
            "Epoch 66/150\n",
            "1/1 [==============================] - 0s 12ms/step - loss: 3.5300 - mse: 19.8056\n",
            "Epoch 67/150\n",
            "1/1 [==============================] - 0s 10ms/step - loss: 3.6729 - mse: 20.5452\n",
            "Epoch 68/150\n",
            "1/1 [==============================] - 0s 11ms/step - loss: 3.5588 - mse: 19.1947\n",
            "Epoch 69/150\n",
            "1/1 [==============================] - 0s 10ms/step - loss: 3.6077 - mse: 20.0085\n",
            "Epoch 70/150\n",
            "1/1 [==============================] - 0s 13ms/step - loss: 3.5807 - mse: 19.1008\n",
            "Epoch 71/150\n",
            "1/1 [==============================] - 0s 16ms/step - loss: 3.5411 - mse: 19.5642\n",
            "Epoch 72/150\n",
            "1/1 [==============================] - 0s 13ms/step - loss: 3.6035 - mse: 19.1282\n",
            "Epoch 73/150\n",
            "1/1 [==============================] - 0s 11ms/step - loss: 3.4731 - mse: 19.2204\n",
            "Epoch 74/150\n",
            "1/1 [==============================] - 0s 10ms/step - loss: 3.6270 - mse: 19.2856\n",
            "Epoch 75/150\n",
            "1/1 [==============================] - 0s 10ms/step - loss: 3.4865 - mse: 18.9842\n",
            "Epoch 76/150\n",
            "1/1 [==============================] - 0s 11ms/step - loss: 3.5725 - mse: 19.8935\n",
            "Epoch 77/150\n",
            "1/1 [==============================] - 0s 10ms/step - loss: 3.5202 - mse: 18.4464\n",
            "Epoch 78/150\n",
            "1/1 [==============================] - 0s 11ms/step - loss: 3.5085 - mse: 19.0088\n",
            "Epoch 79/150\n",
            "1/1 [==============================] - 0s 12ms/step - loss: 3.5437 - mse: 18.4383\n",
            "Epoch 80/150\n",
            "1/1 [==============================] - 0s 13ms/step - loss: 3.4384 - mse: 18.6210\n",
            "Epoch 81/150\n",
            "1/1 [==============================] - 0s 11ms/step - loss: 3.5681 - mse: 18.5688\n",
            "Epoch 82/150\n",
            "1/1 [==============================] - 0s 14ms/step - loss: 3.4280 - mse: 18.3477\n",
            "Epoch 83/150\n",
            "1/1 [==============================] - 0s 16ms/step - loss: 3.5268 - mse: 19.3310\n",
            "Epoch 84/150\n",
            "1/1 [==============================] - 0s 12ms/step - loss: 3.4516 - mse: 18.1966\n",
            "Epoch 85/150\n",
            "1/1 [==============================] - 0s 10ms/step - loss: 3.4585 - mse: 18.8126\n",
            "Epoch 86/150\n",
            "1/1 [==============================] - 0s 10ms/step - loss: 3.4864 - mse: 17.7582\n",
            "Epoch 87/150\n",
            "1/1 [==============================] - 0s 10ms/step - loss: 3.3984 - mse: 17.9988\n",
            "Epoch 88/150\n",
            "1/1 [==============================] - 0s 11ms/step - loss: 3.5114 - mse: 17.8691\n",
            "Epoch 89/150\n",
            "1/1 [==============================] - 0s 11ms/step - loss: 3.3721 - mse: 17.6939\n",
            "Epoch 90/150\n",
            "1/1 [==============================] - 0s 11ms/step - loss: 3.4842 - mse: 18.7175\n",
            "Epoch 91/150\n",
            "1/1 [==============================] - 0s 11ms/step - loss: 3.3965 - mse: 17.5209\n",
            "Epoch 92/150\n",
            "1/1 [==============================] - 0s 14ms/step - loss: 3.4108 - mse: 18.1639\n",
            "Epoch 93/150\n",
            "1/1 [==============================] - 0s 14ms/step - loss: 3.4220 - mse: 17.4962\n",
            "Epoch 94/150\n",
            "1/1 [==============================] - 0s 14ms/step - loss: 3.3363 - mse: 17.7340\n",
            "Epoch 95/150\n",
            "1/1 [==============================] - 0s 11ms/step - loss: 3.4556 - mse: 17.6231\n",
            "Epoch 96/150\n",
            "1/1 [==============================] - 0s 10ms/step - loss: 3.3181 - mse: 17.0750\n",
            "Epoch 97/150\n",
            "1/1 [==============================] - 0s 14ms/step - loss: 3.4319 - mse: 18.0967\n",
            "Epoch 98/150\n",
            "1/1 [==============================] - 0s 15ms/step - loss: 3.3434 - mse: 16.9008\n",
            "Epoch 99/150\n",
            "1/1 [==============================] - 0s 14ms/step - loss: 3.3556 - mse: 17.5261\n",
            "Epoch 100/150\n",
            "1/1 [==============================] - 0s 10ms/step - loss: 3.3702 - mse: 16.8852\n",
            "Epoch 101/150\n",
            "1/1 [==============================] - 0s 10ms/step - loss: 3.2832 - mse: 17.0318\n",
            "Epoch 102/150\n",
            "1/1 [==============================] - 0s 17ms/step - loss: 3.3963 - mse: 16.9493\n",
            "Epoch 103/150\n",
            "1/1 [==============================] - 0s 11ms/step - loss: 3.2570 - mse: 16.7218\n",
            "Epoch 104/150\n",
            "1/1 [==============================] - 0s 12ms/step - loss: 3.3650 - mse: 17.7127\n",
            "Epoch 105/150\n",
            "1/1 [==============================] - 0s 10ms/step - loss: 3.2919 - mse: 16.5666\n",
            "Epoch 106/150\n",
            "1/1 [==============================] - 0s 10ms/step - loss: 3.2977 - mse: 16.7950\n",
            "Epoch 107/150\n",
            "1/1 [==============================] - 0s 10ms/step - loss: 3.3199 - mse: 16.2109\n",
            "Epoch 108/150\n",
            "1/1 [==============================] - 0s 12ms/step - loss: 3.2164 - mse: 16.3493\n",
            "Epoch 109/150\n",
            "1/1 [==============================] - 0s 13ms/step - loss: 3.3496 - mse: 16.3980\n",
            "Epoch 110/150\n",
            "1/1 [==============================] - 0s 15ms/step - loss: 3.2069 - mse: 15.9931\n",
            "Epoch 111/150\n",
            "1/1 [==============================] - 0s 11ms/step - loss: 3.3036 - mse: 16.9317\n",
            "Epoch 112/150\n",
            "1/1 [==============================] - 0s 10ms/step - loss: 3.2340 - mse: 15.8549\n",
            "Epoch 113/150\n",
            "1/1 [==============================] - 0s 9ms/step - loss: 3.2208 - mse: 16.3544\n",
            "Epoch 114/150\n",
            "1/1 [==============================] - 0s 11ms/step - loss: 3.2661 - mse: 15.9047\n",
            "Epoch 115/150\n",
            "1/1 [==============================] - 0s 13ms/step - loss: 3.1424 - mse: 15.8708\n",
            "Epoch 116/150\n",
            "1/1 [==============================] - 0s 10ms/step - loss: 3.2981 - mse: 16.0531\n",
            "Epoch 117/150\n",
            "1/1 [==============================] - 0s 10ms/step - loss: 3.1576 - mse: 15.2462\n",
            "Epoch 118/150\n",
            "1/1 [==============================] - 0s 10ms/step - loss: 3.2358 - mse: 16.1026\n",
            "Epoch 119/150\n",
            "1/1 [==============================] - 0s 10ms/step - loss: 3.1857 - mse: 15.1395\n",
            "Epoch 120/150\n",
            "1/1 [==============================] - 0s 9ms/step - loss: 3.1496 - mse: 15.5314\n",
            "Epoch 121/150\n",
            "1/1 [==============================] - 0s 12ms/step - loss: 3.2147 - mse: 15.2367\n",
            "Epoch 122/150\n",
            "1/1 [==============================] - 0s 11ms/step - loss: 3.0743 - mse: 15.1283\n",
            "Epoch 123/150\n",
            "1/1 [==============================] - 0s 11ms/step - loss: 3.2261 - mse: 16.2674\n",
            "Epoch 124/150\n",
            "1/1 [==============================] - 0s 17ms/step - loss: 3.1070 - mse: 14.9101\n",
            "Epoch 125/150\n",
            "1/1 [==============================] - 0s 12ms/step - loss: 3.1447 - mse: 15.5372\n",
            "Epoch 126/150\n",
            "1/1 [==============================] - 0s 9ms/step - loss: 3.1348 - mse: 14.8077\n",
            "Epoch 127/150\n",
            "1/1 [==============================] - 0s 14ms/step - loss: 3.0693 - mse: 14.6718\n",
            "Epoch 128/150\n",
            "1/1 [==============================] - 0s 12ms/step - loss: 3.1696 - mse: 14.6109\n",
            "Epoch 129/150\n",
            "1/1 [==============================] - 0s 9ms/step - loss: 3.0263 - mse: 14.3078\n",
            "Epoch 130/150\n",
            "1/1 [==============================] - 0s 12ms/step - loss: 3.1458 - mse: 15.3136\n",
            "Epoch 131/150\n",
            "1/1 [==============================] - 0s 18ms/step - loss: 3.0556 - mse: 14.1461\n",
            "Epoch 132/150\n",
            "1/1 [==============================] - 0s 14ms/step - loss: 3.0535 - mse: 14.6545\n",
            "Epoch 133/150\n",
            "1/1 [==============================] - 0s 14ms/step - loss: 3.0912 - mse: 14.2151\n",
            "Epoch 134/150\n",
            "1/1 [==============================] - 0s 13ms/step - loss: 2.9660 - mse: 14.1215\n",
            "Epoch 135/150\n",
            "1/1 [==============================] - 0s 15ms/step - loss: 3.1183 - mse: 14.4173\n",
            "Epoch 136/150\n",
            "1/1 [==============================] - 0s 14ms/step - loss: 2.9700 - mse: 13.7635\n",
            "Epoch 137/150\n",
            "1/1 [==============================] - 0s 10ms/step - loss: 3.0489 - mse: 14.5969\n",
            "Epoch 138/150\n",
            "1/1 [==============================] - 0s 10ms/step - loss: 3.0028 - mse: 13.6933\n",
            "Epoch 139/150\n",
            "1/1 [==============================] - 0s 10ms/step - loss: 2.9768 - mse: 13.6180\n",
            "Epoch 140/150\n",
            "1/1 [==============================] - 0s 10ms/step - loss: 3.0379 - mse: 13.3723\n",
            "Epoch 141/150\n",
            "1/1 [==============================] - 0s 10ms/step - loss: 2.8925 - mse: 13.1668\n",
            "Epoch 142/150\n",
            "1/1 [==============================] - 0s 10ms/step - loss: 3.0498 - mse: 14.3162\n",
            "Epoch 143/150\n",
            "1/1 [==============================] - 0s 10ms/step - loss: 2.9229 - mse: 12.9454\n",
            "Epoch 144/150\n",
            "1/1 [==============================] - 0s 14ms/step - loss: 2.9504 - mse: 13.5527\n",
            "Epoch 145/150\n",
            "1/1 [==============================] - 0s 15ms/step - loss: 2.9545 - mse: 12.9861\n",
            "Epoch 146/150\n",
            "1/1 [==============================] - 0s 15ms/step - loss: 2.8483 - mse: 13.0063\n",
            "Epoch 147/150\n",
            "1/1 [==============================] - 0s 16ms/step - loss: 2.9873 - mse: 13.3143\n",
            "Epoch 148/150\n",
            "1/1 [==============================] - 0s 12ms/step - loss: 2.8376 - mse: 12.6957\n",
            "Epoch 149/150\n",
            "1/1 [==============================] - 0s 13ms/step - loss: 2.9210 - mse: 13.5315\n",
            "Epoch 150/150\n",
            "1/1 [==============================] - 0s 13ms/step - loss: 2.8908 - mse: 12.6485\n"
          ]
        }
      ]
    },
    {
      "cell_type": "code",
      "source": [
        "model1.predict([-4])"
      ],
      "metadata": {
        "colab": {
          "base_uri": "https://localhost:8080/"
        },
        "id": "HiwZJ2FVjHOT",
        "outputId": "5b8e0570-ce26-4d8f-c24b-033d4c2f1a3b"
      },
      "execution_count": 91,
      "outputs": [
        {
          "output_type": "stream",
          "name": "stdout",
          "text": [
            "1/1 [==============================] - 0s 81ms/step\n"
          ]
        },
        {
          "output_type": "execute_result",
          "data": {
            "text/plain": [
              "array([[2.8975327]], dtype=float32)"
            ]
          },
          "metadata": {},
          "execution_count": 91
        }
      ]
    },
    {
      "cell_type": "code",
      "source": [
        "y_pred = model1.predict(tf.expand_dims(x, axis = -1))\n",
        "y_pred"
      ],
      "metadata": {
        "colab": {
          "base_uri": "https://localhost:8080/"
        },
        "id": "siJZAClQjYOM",
        "outputId": "e19f76b7-7d16-481a-a57f-5891721113e8"
      },
      "execution_count": 77,
      "outputs": [
        {
          "output_type": "stream",
          "name": "stderr",
          "text": [
            "WARNING:tensorflow:6 out of the last 7 calls to <function Model.make_predict_function.<locals>.predict_function at 0x7ddfe1d3a290> triggered tf.function retracing. Tracing is expensive and the excessive number of tracings could be due to (1) creating @tf.function repeatedly in a loop, (2) passing tensors with different shapes, (3) passing Python objects instead of tensors. For (1), please define your @tf.function outside of the loop. For (2), @tf.function has reduce_retracing=True option that can avoid unnecessary retracing. For (3), please refer to https://www.tensorflow.org/guide/function#controlling_retracing and https://www.tensorflow.org/api_docs/python/tf/function for  more details.\n"
          ]
        },
        {
          "output_type": "stream",
          "name": "stdout",
          "text": [
            "1/1 [==============================] - 0s 102ms/step\n"
          ]
        },
        {
          "output_type": "execute_result",
          "data": {
            "text/plain": [
              "array([[ 3.5132794],\n",
              "       [ 2.4799297],\n",
              "       [ 1.4636393],\n",
              "       [ 5.1133795],\n",
              "       [10.792081 ],\n",
              "       [16.470781 ],\n",
              "       [22.149485 ],\n",
              "       [27.828184 ]], dtype=float32)"
            ]
          },
          "metadata": {},
          "execution_count": 77
        }
      ]
    },
    {
      "cell_type": "code",
      "source": [
        "y_pred.flatten()"
      ],
      "metadata": {
        "colab": {
          "base_uri": "https://localhost:8080/"
        },
        "id": "VH3L6IHskEHo",
        "outputId": "b17e755c-37c4-4b12-ceeb-752bb814b14f"
      },
      "execution_count": 78,
      "outputs": [
        {
          "output_type": "execute_result",
          "data": {
            "text/plain": [
              "array([ 3.5132794,  2.4799297,  1.4636393,  5.1133795, 10.792081 ,\n",
              "       16.470781 , 22.149485 , 27.828184 ], dtype=float32)"
            ]
          },
          "metadata": {},
          "execution_count": 78
        }
      ]
    },
    {
      "cell_type": "code",
      "source": [
        "x,y"
      ],
      "metadata": {
        "colab": {
          "base_uri": "https://localhost:8080/"
        },
        "id": "vVugD_GujM_4",
        "outputId": "747c6300-5bea-4109-fa03-41cc81ceb296"
      },
      "execution_count": 70,
      "outputs": [
        {
          "output_type": "execute_result",
          "data": {
            "text/plain": [
              "(<tf.Tensor: shape=(8,), dtype=int64, numpy=array([-7, -4, -1,  2,  5,  8, 11, 14])>,\n",
              " <tf.Tensor: shape=(8,), dtype=int64, numpy=array([ 3,  6,  9, 12, 15, 18, 21, 24])>)"
            ]
          },
          "metadata": {},
          "execution_count": 70
        }
      ]
    },
    {
      "cell_type": "code",
      "source": [
        "plt.scatter(x = x, y = y)\n",
        "plt.scatter(x = x, y = y_pred.flatten())"
      ],
      "metadata": {
        "colab": {
          "base_uri": "https://localhost:8080/",
          "height": 448
        },
        "id": "vq15xvppkNWP",
        "outputId": "500de760-9614-4ad8-f32d-93c3558e25dd"
      },
      "execution_count": 79,
      "outputs": [
        {
          "output_type": "execute_result",
          "data": {
            "text/plain": [
              "<matplotlib.collections.PathCollection at 0x7ddff1e3a620>"
            ]
          },
          "metadata": {},
          "execution_count": 79
        },
        {
          "output_type": "display_data",
          "data": {
            "text/plain": [
              "<Figure size 640x480 with 1 Axes>"
            ],
            "image/png": "[encoded data removed]"
          },
          "metadata": {}
        }
      ]
    }
  ]
}